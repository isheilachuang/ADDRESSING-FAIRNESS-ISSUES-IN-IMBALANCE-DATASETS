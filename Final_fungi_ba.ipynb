{
 "cells": [
  {
   "cell_type": "code",
   "execution_count": 1,
   "metadata": {},
   "outputs": [
    {
     "name": "stderr",
     "output_type": "stream",
     "text": [
      "2024-12-06 12:05:18.355121: I tensorflow/core/platform/cpu_feature_guard.cc:210] This TensorFlow binary is optimized to use available CPU instructions in performance-critical operations.\n",
      "To enable the following instructions: AVX2 FMA, in other operations, rebuild TensorFlow with the appropriate compiler flags.\n",
      "/var/folders/vl/ffnrmcms5mx5g1pss893jh0r0000gn/T/ipykernel_68809/2002171943.py:5: TqdmDeprecationWarning: This function will be removed in tqdm==5.0.0\n",
      "Please use `tqdm.notebook.*` instead of `tqdm._tqdm_notebook.*`\n",
      "  from tqdm._tqdm_notebook import tqdm_notebook as tqdm\n"
     ]
    }
   ],
   "source": [
    "import tensorflow as tf\n",
    "from zipfile import ZipFile\n",
    "import os,glob\n",
    "import cv2\n",
    "from tqdm._tqdm_notebook import tqdm_notebook as tqdm\n",
    "import numpy as np\n",
    "from sklearn import preprocessing\n",
    "from sklearn.model_selection import train_test_split\n",
    "from keras.models import Sequential\n",
    "from keras.layers import Convolution2D, Dropout, Dense,MaxPooling2D\n",
    "from keras.layers import BatchNormalization\n",
    "from keras.layers import MaxPooling2D\n",
    "from keras.layers import Flatten\n",
    "from zipfile import ZipFile\n"
   ]
  },
  {
   "cell_type": "code",
   "execution_count": 2,
   "metadata": {},
   "outputs": [
    {
     "name": "stdout",
     "output_type": "stream",
     "text": [
      "Processing H6 folder...\n"
     ]
    },
    {
     "name": "stderr",
     "output_type": "stream",
     "text": [
      "100%|██████████| 739/739 [00:01<00:00, 418.98it/s]\n"
     ]
    },
    {
     "name": "stdout",
     "output_type": "stream",
     "text": [
      "Processing White folder...\n"
     ]
    },
    {
     "name": "stderr",
     "output_type": "stream",
     "text": [
      "100%|██████████| 4404/4404 [00:10<00:00, 413.54it/s]"
     ]
    },
    {
     "name": "stdout",
     "output_type": "stream",
     "text": [
      "Final labels: ['H1' 'H6']\n"
     ]
    },
    {
     "name": "stderr",
     "output_type": "stream",
     "text": [
      "\n"
     ]
    }
   ],
   "source": [
    "import cv2\n",
    "import os\n",
    "import random\n",
    "from tqdm import tqdm\n",
    "\n",
    "# Paths to the image folders\n",
    "H6_folder = 'Defungi/H6'\n",
    "H1_folder = 'Defungi/H1'\n",
    "\n",
    "# Variables to store images and labels\n",
    "X_H6 = []\n",
    "y_H6 = []\n",
    "X_H1 = []\n",
    "y_H1 = []\n",
    "\n",
    "# Process the H6 folder\n",
    "if os.path.exists(H6_folder):\n",
    "    print(\"Processing H6 folder...\")\n",
    "    for i in tqdm(os.listdir(H6_folder)):\n",
    "        img_path = os.path.join(H6_folder, i)  # Construct full path\n",
    "        img = cv2.imread(img_path)\n",
    "        img = cv2.resize(img, (224, 224))  # Resize all images to 224x224\n",
    "        X_H6.append(img)\n",
    "        y_H6.append('H6')  # Label as 'H6'\n",
    "else:\n",
    "    print(f\"Folder not found: {H6_folder}\")\n",
    "\n",
    "# Process the White folder\n",
    "if os.path.exists(H1_folder):\n",
    "    print(\"Processing White folder...\")\n",
    "    for i in tqdm(os.listdir(H1_folder)):\n",
    "        img_path = os.path.join(H1_folder, i)  # Construct full path\n",
    "        img = cv2.imread(img_path)\n",
    "        img = cv2.resize(img, (224, 224))  # Resize all images to 224x224\n",
    "        X_H1.append(img)\n",
    "        y_H1.append('H1')  # Label as 'H1'\n",
    "else:\n",
    "    print(f\"Folder not found: {H1_folder}\")\n",
    "\n",
    "\n",
    "if len(X_H6) >= 100 and len(X_H1) >= 100:\n",
    "    cat_sample_indices = random.sample(range(len(X_H6)), 400)\n",
    "    dog_sample_indices = random.sample(range(len(X_H1)), 400)\n",
    "\n",
    "    X_cat_sample = [X_H6[i] for i in cat_sample_indices]\n",
    "    y_cat_sample = [y_H6[i] for i in cat_sample_indices]\n",
    "\n",
    "    X_dog_sample = [X_H1[i] for i in dog_sample_indices]\n",
    "    y_dog_sample = [y_H1[i] for i in dog_sample_indices]\n",
    "\n",
    "    samples = list(zip(X_cat_sample + X_dog_sample, y_cat_sample + y_dog_sample))\n",
    "\n",
    "    # Shuffle the combined list\n",
    "    random.shuffle(samples)\n",
    "\n",
    "    # Unzip the shuffled list back into X_sample_train and y_sample_train\n",
    "    X_sample_train, y_sample_train = zip(*samples)\n",
    "\n",
    "    # Convert back to lists if needed\n",
    "    X_sample_train = list(X_sample_train)\n",
    "    y_sample_train = list(y_sample_train)\n",
    "\n",
    "    # Debugging: Verify labels\n",
    "    print(f\"Final labels: {np.unique(y_sample_train)}\")\n",
    "else:\n",
    "    print(\"Not enough images: need at least 400 cats and 800 dogs.\")\n"
   ]
  },
  {
   "cell_type": "code",
   "execution_count": 3,
   "metadata": {},
   "outputs": [
    {
     "name": "stdout",
     "output_type": "stream",
     "text": [
      "Final labels: ['H1' 'H6']\n"
     ]
    }
   ],
   "source": [
    "\n",
    "if len(X_H6) >= 100 and len(X_H1) >= 100:\n",
    "    cat_sample_indices = random.sample(range(len(X_H6)), 400)\n",
    "    dog_sample_indices = random.sample(range(len(X_H1)), 400)\n",
    "\n",
    "    X_cat_sample = [X_H6[i] for i in cat_sample_indices]\n",
    "    y_cat_sample = [y_H6[i] for i in cat_sample_indices]\n",
    "\n",
    "    X_dog_sample = [X_H1[i] for i in dog_sample_indices]\n",
    "    y_dog_sample = [y_H1[i] for i in dog_sample_indices]\n",
    "\n",
    "    samples = list(zip(X_cat_sample + X_dog_sample, y_cat_sample + y_dog_sample))\n",
    "\n",
    "    # Shuffle the combined list\n",
    "    random.shuffle(samples)\n",
    "\n",
    "    # Unzip the shuffled list back into X_sample_train and y_sample_train\n",
    "    X_sample_test, y_sample_test = zip(*samples)\n",
    "\n",
    "    # Convert back to lists if needed\n",
    "    X_sample_test = list(X_sample_test)\n",
    "    y_sample_test = list(y_sample_test)\n",
    "\n",
    "    # Debugging: Verify labels\n",
    "    print(f\"Final labels: {np.unique(y_sample_test)}\")\n",
    "else:\n",
    "    print(\"Not enough images: need at least 400 cats and 800 dogs.\")"
   ]
  },
  {
   "cell_type": "code",
   "execution_count": 4,
   "metadata": {},
   "outputs": [
    {
     "data": {
      "image/png": "[encoded data removed]",
      "text/plain": [
       "<Figure size 1000x1000 with 4 Axes>"
      ]
     },
     "metadata": {},
     "output_type": "display_data"
    }
   ],
   "source": [
    "%matplotlib inline\n",
    "import matplotlib.pyplot as plt\n",
    "\n",
    "plt.figure(figsize=(10, 10))\n",
    "for i in range(4):\n",
    "    plt.subplot(1, 4, i+1)\n",
    "    plt.imshow(X_sample_train[i], cmap=\"gray\")\n",
    "    plt.axis('off')\n",
    "plt.show()"
   ]
  },
  {
   "cell_type": "code",
   "execution_count": 5,
   "metadata": {},
   "outputs": [
    {
     "name": "stdout",
     "output_type": "stream",
     "text": [
      "Number of images in X: 800\n",
      "Number of labels in y: 800\n",
      "Number of images in X: 800\n",
      "Number of labels in y: 800\n"
     ]
    }
   ],
   "source": [
    "print(f\"Number of images in X: {len(X_sample_train)}\")\n",
    "print(f\"Number of labels in y: {len(y_sample_train)}\")\n",
    "print(f\"Number of images in X: {len(X_sample_test)}\")\n",
    "print(f\"Number of labels in y: {len(y_sample_test)}\")"
   ]
  },
  {
   "cell_type": "code",
   "execution_count": 6,
   "metadata": {},
   "outputs": [
    {
     "data": {
      "text/html": [
       "<pre style=\"white-space:pre;overflow-x:auto;line-height:normal;font-family:Menlo,'DejaVu Sans Mono',consolas,'Courier New',monospace\"><span style=\"font-weight: bold\">Model: \"functional\"</span>\n",
       "</pre>\n"
      ],
      "text/plain": [
       "\u001b[1mModel: \"functional\"\u001b[0m\n"
      ]
     },
     "metadata": {},
     "output_type": "display_data"
    },
    {
     "data": {
      "text/html": [
       "<pre style=\"white-space:pre;overflow-x:auto;line-height:normal;font-family:Menlo,'DejaVu Sans Mono',consolas,'Courier New',monospace\">┏━━━━━━━━━━━━━━━━━━━━━━━━━━━━━━━━━┳━━━━━━━━━━━━━━━━━━━━━━━━┳━━━━━━━━━━━━━━━┓\n",
       "┃<span style=\"font-weight: bold\"> Layer (type)                    </span>┃<span style=\"font-weight: bold\"> Output Shape           </span>┃<span style=\"font-weight: bold\">       Param # </span>┃\n",
       "┡━━━━━━━━━━━━━━━━━━━━━━━━━━━━━━━━━╇━━━━━━━━━━━━━━━━━━━━━━━━╇━━━━━━━━━━━━━━━┩\n",
       "│ input_layer (<span style=\"color: #0087ff; text-decoration-color: #0087ff\">InputLayer</span>)        │ (<span style=\"color: #00d7ff; text-decoration-color: #00d7ff\">None</span>, <span style=\"color: #00af00; text-decoration-color: #00af00\">224</span>, <span style=\"color: #00af00; text-decoration-color: #00af00\">224</span>, <span style=\"color: #00af00; text-decoration-color: #00af00\">3</span>)    │             <span style=\"color: #00af00; text-decoration-color: #00af00\">0</span> │\n",
       "├─────────────────────────────────┼────────────────────────┼───────────────┤\n",
       "│ block1_conv1 (<span style=\"color: #0087ff; text-decoration-color: #0087ff\">Conv2D</span>)           │ (<span style=\"color: #00d7ff; text-decoration-color: #00d7ff\">None</span>, <span style=\"color: #00af00; text-decoration-color: #00af00\">224</span>, <span style=\"color: #00af00; text-decoration-color: #00af00\">224</span>, <span style=\"color: #00af00; text-decoration-color: #00af00\">64</span>)   │         <span style=\"color: #00af00; text-decoration-color: #00af00\">1,792</span> │\n",
       "├─────────────────────────────────┼────────────────────────┼───────────────┤\n",
       "│ block1_conv2 (<span style=\"color: #0087ff; text-decoration-color: #0087ff\">Conv2D</span>)           │ (<span style=\"color: #00d7ff; text-decoration-color: #00d7ff\">None</span>, <span style=\"color: #00af00; text-decoration-color: #00af00\">224</span>, <span style=\"color: #00af00; text-decoration-color: #00af00\">224</span>, <span style=\"color: #00af00; text-decoration-color: #00af00\">64</span>)   │        <span style=\"color: #00af00; text-decoration-color: #00af00\">36,928</span> │\n",
       "├─────────────────────────────────┼────────────────────────┼───────────────┤\n",
       "│ block1_pool (<span style=\"color: #0087ff; text-decoration-color: #0087ff\">MaxPooling2D</span>)      │ (<span style=\"color: #00d7ff; text-decoration-color: #00d7ff\">None</span>, <span style=\"color: #00af00; text-decoration-color: #00af00\">112</span>, <span style=\"color: #00af00; text-decoration-color: #00af00\">112</span>, <span style=\"color: #00af00; text-decoration-color: #00af00\">64</span>)   │             <span style=\"color: #00af00; text-decoration-color: #00af00\">0</span> │\n",
       "├─────────────────────────────────┼────────────────────────┼───────────────┤\n",
       "│ block2_conv1 (<span style=\"color: #0087ff; text-decoration-color: #0087ff\">Conv2D</span>)           │ (<span style=\"color: #00d7ff; text-decoration-color: #00d7ff\">None</span>, <span style=\"color: #00af00; text-decoration-color: #00af00\">112</span>, <span style=\"color: #00af00; text-decoration-color: #00af00\">112</span>, <span style=\"color: #00af00; text-decoration-color: #00af00\">128</span>)  │        <span style=\"color: #00af00; text-decoration-color: #00af00\">73,856</span> │\n",
       "├─────────────────────────────────┼────────────────────────┼───────────────┤\n",
       "│ block2_conv2 (<span style=\"color: #0087ff; text-decoration-color: #0087ff\">Conv2D</span>)           │ (<span style=\"color: #00d7ff; text-decoration-color: #00d7ff\">None</span>, <span style=\"color: #00af00; text-decoration-color: #00af00\">112</span>, <span style=\"color: #00af00; text-decoration-color: #00af00\">112</span>, <span style=\"color: #00af00; text-decoration-color: #00af00\">128</span>)  │       <span style=\"color: #00af00; text-decoration-color: #00af00\">147,584</span> │\n",
       "├─────────────────────────────────┼────────────────────────┼───────────────┤\n",
       "│ block2_pool (<span style=\"color: #0087ff; text-decoration-color: #0087ff\">MaxPooling2D</span>)      │ (<span style=\"color: #00d7ff; text-decoration-color: #00d7ff\">None</span>, <span style=\"color: #00af00; text-decoration-color: #00af00\">56</span>, <span style=\"color: #00af00; text-decoration-color: #00af00\">56</span>, <span style=\"color: #00af00; text-decoration-color: #00af00\">128</span>)    │             <span style=\"color: #00af00; text-decoration-color: #00af00\">0</span> │\n",
       "├─────────────────────────────────┼────────────────────────┼───────────────┤\n",
       "│ block3_conv1 (<span style=\"color: #0087ff; text-decoration-color: #0087ff\">Conv2D</span>)           │ (<span style=\"color: #00d7ff; text-decoration-color: #00d7ff\">None</span>, <span style=\"color: #00af00; text-decoration-color: #00af00\">56</span>, <span style=\"color: #00af00; text-decoration-color: #00af00\">56</span>, <span style=\"color: #00af00; text-decoration-color: #00af00\">256</span>)    │       <span style=\"color: #00af00; text-decoration-color: #00af00\">295,168</span> │\n",
       "├─────────────────────────────────┼────────────────────────┼───────────────┤\n",
       "│ block3_conv2 (<span style=\"color: #0087ff; text-decoration-color: #0087ff\">Conv2D</span>)           │ (<span style=\"color: #00d7ff; text-decoration-color: #00d7ff\">None</span>, <span style=\"color: #00af00; text-decoration-color: #00af00\">56</span>, <span style=\"color: #00af00; text-decoration-color: #00af00\">56</span>, <span style=\"color: #00af00; text-decoration-color: #00af00\">256</span>)    │       <span style=\"color: #00af00; text-decoration-color: #00af00\">590,080</span> │\n",
       "├─────────────────────────────────┼────────────────────────┼───────────────┤\n",
       "│ block3_conv3 (<span style=\"color: #0087ff; text-decoration-color: #0087ff\">Conv2D</span>)           │ (<span style=\"color: #00d7ff; text-decoration-color: #00d7ff\">None</span>, <span style=\"color: #00af00; text-decoration-color: #00af00\">56</span>, <span style=\"color: #00af00; text-decoration-color: #00af00\">56</span>, <span style=\"color: #00af00; text-decoration-color: #00af00\">256</span>)    │       <span style=\"color: #00af00; text-decoration-color: #00af00\">590,080</span> │\n",
       "├─────────────────────────────────┼────────────────────────┼───────────────┤\n",
       "│ block3_pool (<span style=\"color: #0087ff; text-decoration-color: #0087ff\">MaxPooling2D</span>)      │ (<span style=\"color: #00d7ff; text-decoration-color: #00d7ff\">None</span>, <span style=\"color: #00af00; text-decoration-color: #00af00\">28</span>, <span style=\"color: #00af00; text-decoration-color: #00af00\">28</span>, <span style=\"color: #00af00; text-decoration-color: #00af00\">256</span>)    │             <span style=\"color: #00af00; text-decoration-color: #00af00\">0</span> │\n",
       "├─────────────────────────────────┼────────────────────────┼───────────────┤\n",
       "│ block4_conv1 (<span style=\"color: #0087ff; text-decoration-color: #0087ff\">Conv2D</span>)           │ (<span style=\"color: #00d7ff; text-decoration-color: #00d7ff\">None</span>, <span style=\"color: #00af00; text-decoration-color: #00af00\">28</span>, <span style=\"color: #00af00; text-decoration-color: #00af00\">28</span>, <span style=\"color: #00af00; text-decoration-color: #00af00\">512</span>)    │     <span style=\"color: #00af00; text-decoration-color: #00af00\">1,180,160</span> │\n",
       "├─────────────────────────────────┼────────────────────────┼───────────────┤\n",
       "│ block4_conv2 (<span style=\"color: #0087ff; text-decoration-color: #0087ff\">Conv2D</span>)           │ (<span style=\"color: #00d7ff; text-decoration-color: #00d7ff\">None</span>, <span style=\"color: #00af00; text-decoration-color: #00af00\">28</span>, <span style=\"color: #00af00; text-decoration-color: #00af00\">28</span>, <span style=\"color: #00af00; text-decoration-color: #00af00\">512</span>)    │     <span style=\"color: #00af00; text-decoration-color: #00af00\">2,359,808</span> │\n",
       "├─────────────────────────────────┼────────────────────────┼───────────────┤\n",
       "│ block4_conv3 (<span style=\"color: #0087ff; text-decoration-color: #0087ff\">Conv2D</span>)           │ (<span style=\"color: #00d7ff; text-decoration-color: #00d7ff\">None</span>, <span style=\"color: #00af00; text-decoration-color: #00af00\">28</span>, <span style=\"color: #00af00; text-decoration-color: #00af00\">28</span>, <span style=\"color: #00af00; text-decoration-color: #00af00\">512</span>)    │     <span style=\"color: #00af00; text-decoration-color: #00af00\">2,359,808</span> │\n",
       "├─────────────────────────────────┼────────────────────────┼───────────────┤\n",
       "│ block4_pool (<span style=\"color: #0087ff; text-decoration-color: #0087ff\">MaxPooling2D</span>)      │ (<span style=\"color: #00d7ff; text-decoration-color: #00d7ff\">None</span>, <span style=\"color: #00af00; text-decoration-color: #00af00\">14</span>, <span style=\"color: #00af00; text-decoration-color: #00af00\">14</span>, <span style=\"color: #00af00; text-decoration-color: #00af00\">512</span>)    │             <span style=\"color: #00af00; text-decoration-color: #00af00\">0</span> │\n",
       "├─────────────────────────────────┼────────────────────────┼───────────────┤\n",
       "│ block5_conv1 (<span style=\"color: #0087ff; text-decoration-color: #0087ff\">Conv2D</span>)           │ (<span style=\"color: #00d7ff; text-decoration-color: #00d7ff\">None</span>, <span style=\"color: #00af00; text-decoration-color: #00af00\">14</span>, <span style=\"color: #00af00; text-decoration-color: #00af00\">14</span>, <span style=\"color: #00af00; text-decoration-color: #00af00\">512</span>)    │     <span style=\"color: #00af00; text-decoration-color: #00af00\">2,359,808</span> │\n",
       "├─────────────────────────────────┼────────────────────────┼───────────────┤\n",
       "│ block5_conv2 (<span style=\"color: #0087ff; text-decoration-color: #0087ff\">Conv2D</span>)           │ (<span style=\"color: #00d7ff; text-decoration-color: #00d7ff\">None</span>, <span style=\"color: #00af00; text-decoration-color: #00af00\">14</span>, <span style=\"color: #00af00; text-decoration-color: #00af00\">14</span>, <span style=\"color: #00af00; text-decoration-color: #00af00\">512</span>)    │     <span style=\"color: #00af00; text-decoration-color: #00af00\">2,359,808</span> │\n",
       "├─────────────────────────────────┼────────────────────────┼───────────────┤\n",
       "│ block5_conv3 (<span style=\"color: #0087ff; text-decoration-color: #0087ff\">Conv2D</span>)           │ (<span style=\"color: #00d7ff; text-decoration-color: #00d7ff\">None</span>, <span style=\"color: #00af00; text-decoration-color: #00af00\">14</span>, <span style=\"color: #00af00; text-decoration-color: #00af00\">14</span>, <span style=\"color: #00af00; text-decoration-color: #00af00\">512</span>)    │     <span style=\"color: #00af00; text-decoration-color: #00af00\">2,359,808</span> │\n",
       "├─────────────────────────────────┼────────────────────────┼───────────────┤\n",
       "│ block5_pool (<span style=\"color: #0087ff; text-decoration-color: #0087ff\">MaxPooling2D</span>)      │ (<span style=\"color: #00d7ff; text-decoration-color: #00d7ff\">None</span>, <span style=\"color: #00af00; text-decoration-color: #00af00\">7</span>, <span style=\"color: #00af00; text-decoration-color: #00af00\">7</span>, <span style=\"color: #00af00; text-decoration-color: #00af00\">512</span>)      │             <span style=\"color: #00af00; text-decoration-color: #00af00\">0</span> │\n",
       "├─────────────────────────────────┼────────────────────────┼───────────────┤\n",
       "│ flatten (<span style=\"color: #0087ff; text-decoration-color: #0087ff\">Flatten</span>)               │ (<span style=\"color: #00d7ff; text-decoration-color: #00d7ff\">None</span>, <span style=\"color: #00af00; text-decoration-color: #00af00\">25088</span>)          │             <span style=\"color: #00af00; text-decoration-color: #00af00\">0</span> │\n",
       "├─────────────────────────────────┼────────────────────────┼───────────────┤\n",
       "│ dense (<span style=\"color: #0087ff; text-decoration-color: #0087ff\">Dense</span>)                   │ (<span style=\"color: #00d7ff; text-decoration-color: #00d7ff\">None</span>, <span style=\"color: #00af00; text-decoration-color: #00af00\">4096</span>)           │   <span style=\"color: #00af00; text-decoration-color: #00af00\">102,764,544</span> │\n",
       "└─────────────────────────────────┴────────────────────────┴───────────────┘\n",
       "</pre>\n"
      ],
      "text/plain": [
       "┏━━━━━━━━━━━━━━━━━━━━━━━━━━━━━━━━━┳━━━━━━━━━━━━━━━━━━━━━━━━┳━━━━━━━━━━━━━━━┓\n",
       "┃\u001b[1m \u001b[0m\u001b[1mLayer (type)                   \u001b[0m\u001b[1m \u001b[0m┃\u001b[1m \u001b[0m\u001b[1mOutput Shape          \u001b[0m\u001b[1m \u001b[0m┃\u001b[1m \u001b[0m\u001b[1m      Param #\u001b[0m\u001b[1m \u001b[0m┃\n",
       "┡━━━━━━━━━━━━━━━━━━━━━━━━━━━━━━━━━╇━━━━━━━━━━━━━━━━━━━━━━━━╇━━━━━━━━━━━━━━━┩\n",
       "│ input_layer (\u001b[38;5;33mInputLayer\u001b[0m)        │ (\u001b[38;5;45mNone\u001b[0m, \u001b[38;5;34m224\u001b[0m, \u001b[38;5;34m224\u001b[0m, \u001b[38;5;34m3\u001b[0m)    │             \u001b[38;5;34m0\u001b[0m │\n",
       "├─────────────────────────────────┼────────────────────────┼───────────────┤\n",
       "│ block1_conv1 (\u001b[38;5;33mConv2D\u001b[0m)           │ (\u001b[38;5;45mNone\u001b[0m, \u001b[38;5;34m224\u001b[0m, \u001b[38;5;34m224\u001b[0m, \u001b[38;5;34m64\u001b[0m)   │         \u001b[38;5;34m1,792\u001b[0m │\n",
       "├─────────────────────────────────┼────────────────────────┼───────────────┤\n",
       "│ block1_conv2 (\u001b[38;5;33mConv2D\u001b[0m)           │ (\u001b[38;5;45mNone\u001b[0m, \u001b[38;5;34m224\u001b[0m, \u001b[38;5;34m224\u001b[0m, \u001b[38;5;34m64\u001b[0m)   │        \u001b[38;5;34m36,928\u001b[0m │\n",
       "├─────────────────────────────────┼────────────────────────┼───────────────┤\n",
       "│ block1_pool (\u001b[38;5;33mMaxPooling2D\u001b[0m)      │ (\u001b[38;5;45mNone\u001b[0m, \u001b[38;5;34m112\u001b[0m, \u001b[38;5;34m112\u001b[0m, \u001b[38;5;34m64\u001b[0m)   │             \u001b[38;5;34m0\u001b[0m │\n",
       "├─────────────────────────────────┼────────────────────────┼───────────────┤\n",
       "│ block2_conv1 (\u001b[38;5;33mConv2D\u001b[0m)           │ (\u001b[38;5;45mNone\u001b[0m, \u001b[38;5;34m112\u001b[0m, \u001b[38;5;34m112\u001b[0m, \u001b[38;5;34m128\u001b[0m)  │        \u001b[38;5;34m73,856\u001b[0m │\n",
       "├─────────────────────────────────┼────────────────────────┼───────────────┤\n",
       "│ block2_conv2 (\u001b[38;5;33mConv2D\u001b[0m)           │ (\u001b[38;5;45mNone\u001b[0m, \u001b[38;5;34m112\u001b[0m, \u001b[38;5;34m112\u001b[0m, \u001b[38;5;34m128\u001b[0m)  │       \u001b[38;5;34m147,584\u001b[0m │\n",
       "├─────────────────────────────────┼────────────────────────┼───────────────┤\n",
       "│ block2_pool (\u001b[38;5;33mMaxPooling2D\u001b[0m)      │ (\u001b[38;5;45mNone\u001b[0m, \u001b[38;5;34m56\u001b[0m, \u001b[38;5;34m56\u001b[0m, \u001b[38;5;34m128\u001b[0m)    │             \u001b[38;5;34m0\u001b[0m │\n",
       "├─────────────────────────────────┼────────────────────────┼───────────────┤\n",
       "│ block3_conv1 (\u001b[38;5;33mConv2D\u001b[0m)           │ (\u001b[38;5;45mNone\u001b[0m, \u001b[38;5;34m56\u001b[0m, \u001b[38;5;34m56\u001b[0m, \u001b[38;5;34m256\u001b[0m)    │       \u001b[38;5;34m295,168\u001b[0m │\n",
       "├─────────────────────────────────┼────────────────────────┼───────────────┤\n",
       "│ block3_conv2 (\u001b[38;5;33mConv2D\u001b[0m)           │ (\u001b[38;5;45mNone\u001b[0m, \u001b[38;5;34m56\u001b[0m, \u001b[38;5;34m56\u001b[0m, \u001b[38;5;34m256\u001b[0m)    │       \u001b[38;5;34m590,080\u001b[0m │\n",
       "├─────────────────────────────────┼────────────────────────┼───────────────┤\n",
       "│ block3_conv3 (\u001b[38;5;33mConv2D\u001b[0m)           │ (\u001b[38;5;45mNone\u001b[0m, \u001b[38;5;34m56\u001b[0m, \u001b[38;5;34m56\u001b[0m, \u001b[38;5;34m256\u001b[0m)    │       \u001b[38;5;34m590,080\u001b[0m │\n",
       "├─────────────────────────────────┼────────────────────────┼───────────────┤\n",
       "│ block3_pool (\u001b[38;5;33mMaxPooling2D\u001b[0m)      │ (\u001b[38;5;45mNone\u001b[0m, \u001b[38;5;34m28\u001b[0m, \u001b[38;5;34m28\u001b[0m, \u001b[38;5;34m256\u001b[0m)    │             \u001b[38;5;34m0\u001b[0m │\n",
       "├─────────────────────────────────┼────────────────────────┼───────────────┤\n",
       "│ block4_conv1 (\u001b[38;5;33mConv2D\u001b[0m)           │ (\u001b[38;5;45mNone\u001b[0m, \u001b[38;5;34m28\u001b[0m, \u001b[38;5;34m28\u001b[0m, \u001b[38;5;34m512\u001b[0m)    │     \u001b[38;5;34m1,180,160\u001b[0m │\n",
       "├─────────────────────────────────┼────────────────────────┼───────────────┤\n",
       "│ block4_conv2 (\u001b[38;5;33mConv2D\u001b[0m)           │ (\u001b[38;5;45mNone\u001b[0m, \u001b[38;5;34m28\u001b[0m, \u001b[38;5;34m28\u001b[0m, \u001b[38;5;34m512\u001b[0m)    │     \u001b[38;5;34m2,359,808\u001b[0m │\n",
       "├─────────────────────────────────┼────────────────────────┼───────────────┤\n",
       "│ block4_conv3 (\u001b[38;5;33mConv2D\u001b[0m)           │ (\u001b[38;5;45mNone\u001b[0m, \u001b[38;5;34m28\u001b[0m, \u001b[38;5;34m28\u001b[0m, \u001b[38;5;34m512\u001b[0m)    │     \u001b[38;5;34m2,359,808\u001b[0m │\n",
       "├─────────────────────────────────┼────────────────────────┼───────────────┤\n",
       "│ block4_pool (\u001b[38;5;33mMaxPooling2D\u001b[0m)      │ (\u001b[38;5;45mNone\u001b[0m, \u001b[38;5;34m14\u001b[0m, \u001b[38;5;34m14\u001b[0m, \u001b[38;5;34m512\u001b[0m)    │             \u001b[38;5;34m0\u001b[0m │\n",
       "├─────────────────────────────────┼────────────────────────┼───────────────┤\n",
       "│ block5_conv1 (\u001b[38;5;33mConv2D\u001b[0m)           │ (\u001b[38;5;45mNone\u001b[0m, \u001b[38;5;34m14\u001b[0m, \u001b[38;5;34m14\u001b[0m, \u001b[38;5;34m512\u001b[0m)    │     \u001b[38;5;34m2,359,808\u001b[0m │\n",
       "├─────────────────────────────────┼────────────────────────┼───────────────┤\n",
       "│ block5_conv2 (\u001b[38;5;33mConv2D\u001b[0m)           │ (\u001b[38;5;45mNone\u001b[0m, \u001b[38;5;34m14\u001b[0m, \u001b[38;5;34m14\u001b[0m, \u001b[38;5;34m512\u001b[0m)    │     \u001b[38;5;34m2,359,808\u001b[0m │\n",
       "├─────────────────────────────────┼────────────────────────┼───────────────┤\n",
       "│ block5_conv3 (\u001b[38;5;33mConv2D\u001b[0m)           │ (\u001b[38;5;45mNone\u001b[0m, \u001b[38;5;34m14\u001b[0m, \u001b[38;5;34m14\u001b[0m, \u001b[38;5;34m512\u001b[0m)    │     \u001b[38;5;34m2,359,808\u001b[0m │\n",
       "├─────────────────────────────────┼────────────────────────┼───────────────┤\n",
       "│ block5_pool (\u001b[38;5;33mMaxPooling2D\u001b[0m)      │ (\u001b[38;5;45mNone\u001b[0m, \u001b[38;5;34m7\u001b[0m, \u001b[38;5;34m7\u001b[0m, \u001b[38;5;34m512\u001b[0m)      │             \u001b[38;5;34m0\u001b[0m │\n",
       "├─────────────────────────────────┼────────────────────────┼───────────────┤\n",
       "│ flatten (\u001b[38;5;33mFlatten\u001b[0m)               │ (\u001b[38;5;45mNone\u001b[0m, \u001b[38;5;34m25088\u001b[0m)          │             \u001b[38;5;34m0\u001b[0m │\n",
       "├─────────────────────────────────┼────────────────────────┼───────────────┤\n",
       "│ dense (\u001b[38;5;33mDense\u001b[0m)                   │ (\u001b[38;5;45mNone\u001b[0m, \u001b[38;5;34m4096\u001b[0m)           │   \u001b[38;5;34m102,764,544\u001b[0m │\n",
       "└─────────────────────────────────┴────────────────────────┴───────────────┘\n"
      ]
     },
     "metadata": {},
     "output_type": "display_data"
    },
    {
     "data": {
      "text/html": [
       "<pre style=\"white-space:pre;overflow-x:auto;line-height:normal;font-family:Menlo,'DejaVu Sans Mono',consolas,'Courier New',monospace\"><span style=\"font-weight: bold\"> Total params: </span><span style=\"color: #00af00; text-decoration-color: #00af00\">117,479,232</span> (448.15 MB)\n",
       "</pre>\n"
      ],
      "text/plain": [
       "\u001b[1m Total params: \u001b[0m\u001b[38;5;34m117,479,232\u001b[0m (448.15 MB)\n"
      ]
     },
     "metadata": {},
     "output_type": "display_data"
    },
    {
     "data": {
      "text/html": [
       "<pre style=\"white-space:pre;overflow-x:auto;line-height:normal;font-family:Menlo,'DejaVu Sans Mono',consolas,'Courier New',monospace\"><span style=\"font-weight: bold\"> Trainable params: </span><span style=\"color: #00af00; text-decoration-color: #00af00\">117,479,232</span> (448.15 MB)\n",
       "</pre>\n"
      ],
      "text/plain": [
       "\u001b[1m Trainable params: \u001b[0m\u001b[38;5;34m117,479,232\u001b[0m (448.15 MB)\n"
      ]
     },
     "metadata": {},
     "output_type": "display_data"
    },
    {
     "data": {
      "text/html": [
       "<pre style=\"white-space:pre;overflow-x:auto;line-height:normal;font-family:Menlo,'DejaVu Sans Mono',consolas,'Courier New',monospace\"><span style=\"font-weight: bold\"> Non-trainable params: </span><span style=\"color: #00af00; text-decoration-color: #00af00\">0</span> (0.00 B)\n",
       "</pre>\n"
      ],
      "text/plain": [
       "\u001b[1m Non-trainable params: \u001b[0m\u001b[38;5;34m0\u001b[0m (0.00 B)\n"
      ]
     },
     "metadata": {},
     "output_type": "display_data"
    },
    {
     "name": "stdout",
     "output_type": "stream",
     "text": [
      "None\n"
     ]
    }
   ],
   "source": [
    "from tensorflow.keras.applications import VGG16\n",
    "from tensorflow.keras.models import Model\n",
    "\n",
    "vgg_model = VGG16(weights='imagenet', include_top=False, input_shape=(224, 224, 3))\n",
    "\n",
    "x = vgg_model.output\n",
    "x = Flatten()(x) \n",
    "x = Dense(4096, activation='relu')(x)\n",
    "model_with_fc = Model(inputs=vgg_model.input, outputs=x)\n",
    "\n",
    "print(model_with_fc.summary())"
   ]
  },
  {
   "cell_type": "code",
   "execution_count": 7,
   "metadata": {},
   "outputs": [
    {
     "name": "stdout",
     "output_type": "stream",
     "text": [
      "\u001b[1m25/25\u001b[0m \u001b[32m━━━━━━━━━━━━━━━━━━━━\u001b[0m\u001b[37m\u001b[0m \u001b[1m143s\u001b[0m 6s/step\n",
      "Extracted training features shape: (800, 4096)\n"
     ]
    }
   ],
   "source": [
    "from tensorflow.keras.applications.vgg16 import preprocess_input\n",
    "from tensorflow.keras.preprocessing.image import load_img, img_to_array\n",
    "\n",
    "\n",
    "X_sample_train_processed = []\n",
    "\n",
    "for img in X_sample_train:\n",
    "    img_array = img_to_array(img)\n",
    "    img_array = np.expand_dims(img_array, axis=0)\n",
    "    img_array = preprocess_input(img_array)\n",
    "    X_sample_train_processed.append(img_array)\n",
    "\n",
    "X_sample_train_processed = np.vstack(X_sample_train_processed)\n",
    "\n",
    "batch_size = 32\n",
    "X_train_features = model_with_fc.predict(X_sample_train_processed, batch_size=batch_size)\n",
    "\n",
    "print(f\"Extracted training features shape: {X_train_features.shape}\")"
   ]
  },
  {
   "cell_type": "code",
   "execution_count": 8,
   "metadata": {},
   "outputs": [
    {
     "name": "stdout",
     "output_type": "stream",
     "text": [
      "\u001b[1m25/25\u001b[0m \u001b[32m━━━━━━━━━━━━━━━━━━━━\u001b[0m\u001b[37m\u001b[0m \u001b[1m118s\u001b[0m 5s/step\n",
      "Extracted training features shape: (800, 4096)\n"
     ]
    }
   ],
   "source": [
    "X_sample_test_processed = []\n",
    "\n",
    "for img in X_sample_test:\n",
    "    img_array = img_to_array(img)\n",
    "    img_array = np.expand_dims(img_array, axis=0)\n",
    "    img_array = preprocess_input(img_array)\n",
    "    X_sample_test_processed.append(img_array)\n",
    "\n",
    "X_sample_test_processed = np.vstack(X_sample_test_processed)\n",
    "\n",
    "X_test_features = model_with_fc.predict(X_sample_test_processed)\n",
    "\n",
    "print(f\"Extracted training features shape: {X_test_features.shape}\")"
   ]
  },
  {
   "cell_type": "code",
   "execution_count": 9,
   "metadata": {},
   "outputs": [],
   "source": [
    "le = preprocessing.LabelEncoder()\n",
    "y_train = le.fit_transform(y_sample_train)\n",
    "y_test = le.fit_transform(y_sample_test)\n",
    "y_train = tf.keras.utils.to_categorical(y_train, num_classes=2)\n",
    "y_test = tf.keras.utils.to_categorical(y_test, num_classes=2)\n",
    "y_train = np.array(y_train)\n",
    "X_train = np.array(X_train_features)\n",
    "y_test = np.array(y_test)\n",
    "X_test = np.array(X_test_features) "
   ]
  },
  {
   "cell_type": "code",
   "execution_count": 10,
   "metadata": {},
   "outputs": [
    {
     "name": "stdout",
     "output_type": "stream",
     "text": [
      "X_train Shape:  (800, 4096)\n",
      "X_test Shape:  (800, 4096)\n",
      "y_train Shape:  (800, 2)\n",
      "y_test Shape:  (800, 2)\n"
     ]
    }
   ],
   "source": [
    "print(\"X_train Shape: \", X_train.shape) \n",
    "print(\"X_test Shape: \", X_test.shape)\n",
    "print(\"y_train Shape: \", y_train.shape) \n",
    "print(\"y_test Shape: \", y_test.shape)"
   ]
  },
  {
   "cell_type": "code",
   "execution_count": 11,
   "metadata": {},
   "outputs": [
    {
     "name": "stdout",
     "output_type": "stream",
     "text": [
      "Converted y_train: [-1 -1 -1  1 -1  1 -1  1  1 -1]\n",
      "Unique values in y_train_converted: [-1  1]\n",
      "Converted y_train: [-1  1  1 -1 -1 -1 -1 -1 -1  1]\n",
      "Unique values in y_train_converted: [-1  1]\n"
     ]
    }
   ],
   "source": [
    "y_train = np.array([1 if label[0] == 1 else -1 for label in y_train], dtype=np.int32)\n",
    "y_test = np.array([1 if label[0] == 1 else -1 for label in y_test], dtype=np.int32)\n",
    "\n",
    "\n",
    "print(f\"Converted y_train: {y_train[:10]}\")\n",
    "print(f\"Unique values in y_train_converted: {np.unique(y_train)}\")\n",
    "print(f\"Converted y_train: {y_test[:10]}\")\n",
    "print(f\"Unique values in y_train_converted: {np.unique(y_test)}\")\n",
    "\n"
   ]
  },
  {
   "cell_type": "code",
   "execution_count": 12,
   "metadata": {},
   "outputs": [],
   "source": [
    "import numpy as np\n",
    "import cvxpy as cp\n",
    "import matplotlib.pyplot as plt\n",
    "\n",
    "# Soft-margin SVM using CVXPY\n",
    "def soft_margin_svm(X, y, C):\n",
    "    \"\"\"\n",
    "    Solves the soft-margin SVM problem using CVXPY\n",
    "    Args:\n",
    "    - X: Data matrix of shape (m, n) where m is the number of points and n is the dimension (features).\n",
    "    - y: Labels vector of shape (m,) with entries in {-1, 1}.\n",
    "    - C: Regularization parameter.\n",
    "    Returns:\n",
    "    - b: Coefficient vector of shape (n,)\n",
    "    - c: Intercept (scalar)\n",
    "    - xi: Slack variables vector of shape (m,)\n",
    "    \"\"\"\n",
    "    m, n = X.shape\n",
    "\n",
    "    # Define the variables\n",
    "    b = cp.Variable(n)    # weight vector\n",
    "    c = cp.Variable()     # bias\n",
    "    xi = cp.Variable(m)   # slack variables\n",
    "\n",
    "    # Define the objective function: minimize (1/2) * ||b||^2 + C * sum(xi)\n",
    "    objective = cp.Minimize(0.5 * cp.sum_squares(b) + C * cp.sum(xi))\n",
    "\n",
    "    # Define the constraints: y_i * (b^T x_i + c) >= 1 - xi_i, xi_i >= 0\n",
    "    constraints = [y[i] * (X[i] @ b + c) >= 1 - xi[i] for i in range(m)]\n",
    "    constraints += [xi >= 0]\n",
    "\n",
    "    # Solve the problem\n",
    "    prob = cp.Problem(objective, constraints)\n",
    "    prob.solve()\n",
    "\n",
    "    # Return the solution: b, c, and xi\n",
    "    return b.value, c.value, xi.value\n",
    "\n",
    "# Function to predict using the learned SVM model\n",
    "def predict(X, b, c):\n",
    "    return np.sign(X @ b + c)\n"
   ]
  },
  {
   "cell_type": "code",
   "execution_count": 13,
   "metadata": {},
   "outputs": [
    {
     "name": "stdout",
     "output_type": "stream",
     "text": [
      "Testing Accuracy: 96.62%\n",
      "Classification Report for Testing Set:\n",
      "              precision    recall  f1-score   support\n",
      "\n",
      "          -1       0.97      0.96      0.97       400\n",
      "           1       0.96      0.97      0.97       400\n",
      "\n",
      "    accuracy                           0.97       800\n",
      "   macro avg       0.97      0.97      0.97       800\n",
      "weighted avg       0.97      0.97      0.97       800\n",
      "\n"
     ]
    }
   ],
   "source": [
    "from sklearn.metrics import accuracy_score, classification_report\n",
    "# Run the SVM (Soft-margin SVM)\n",
    "C = 1.0  # Regularization parameter\n",
    "b_opt, c_opt, xi_opt = soft_margin_svm(X_train, y_train, C)\n",
    "\n",
    "# Predict the labels on the test set\n",
    "y_pred = predict(X_test, b_opt, c_opt)\n",
    "\n",
    "# Compute accuracy and display classification report\n",
    "accuracy = accuracy_score(y_test, y_pred)\n",
    "\n",
    "print(f\"Testing Accuracy: {accuracy * 100:.2f}%\")\n",
    "\n",
    "print(\"Classification Report for Testing Set:\")\n",
    "print(classification_report(y_test, y_pred))"
   ]
  },
  {
   "cell_type": "code",
   "execution_count": 14,
   "metadata": {},
   "outputs": [],
   "source": [
    "import cvxpy as cp\n",
    "import numpy as np\n",
    "import matplotlib.pyplot as plt\n",
    "\n",
    "def tsvm(A, B, C1=1.0, C2=1.0):\n",
    "    \"\"\"\n",
    "    TSVM\n",
    "\n",
    "    Args:\n",
    "    - A: Matrix of points for class 1 (positive class).\n",
    "    - B: Matrix of points for class -1 (negative class).\n",
    "    - n_universum: Number of Universum points to generate.\n",
    "    - C1: Regularization parameter for class 1.\n",
    "    - C2: Regularization parameter for class -1.\n",
    "\n",
    "    Returns:\n",
    "    - b1_opt, c1_opt: Optimal weight vector and bias for class 1 hyperplane.\n",
    "    - b2_opt, c2_opt: Optimal weight vector and bias for class -1 hyperplane.\n",
    "    \"\"\"\n",
    "\n",
    "    n_class1, n_features = A.shape\n",
    "    n_class_minus_1 = B.shape[0]\n",
    "\n",
    "\n",
    "\n",
    "    # Optimization variables for Class 1\n",
    "    b1 = cp.Variable(n_features)\n",
    "    c1 = cp.Variable()\n",
    "    xi1 = cp.Variable(n_class_minus_1)  # Slack variables for class -1 constraints\n",
    "    \n",
    "    # Optimization variables for Class 2\n",
    "    b2 = cp.Variable(n_features)\n",
    "    c2 = cp.Variable()\n",
    "    xi2 = cp.Variable(n_class1)  # Slack variables for class 1 constraints\n",
    "  \n",
    "\n",
    "    # Objective function for Class 1\n",
    "    objective1 = cp.Minimize(0.5 * cp.norm(A @ b1 + c1, 2)**2 + C1 * cp.sum(xi1))\n",
    "\n",
    "    # Constraints for Class 1\n",
    "    constraints1 = [\n",
    "        -B @ b1 - c1 + xi1 >= np.ones(n_class_minus_1),\n",
    "        xi1 >= 0  # Class -1 points\n",
    "    ]\n",
    "\n",
    "    # Solve for Class 1\n",
    "    problem1 = cp.Problem(objective1, constraints1)\n",
    "    problem1.solve()\n",
    "    b1_opt = b1.value\n",
    "    c1_opt = c1.value\n",
    "\n",
    "    # Objective function for Class 2\n",
    "    objective2 = cp.Minimize(0.5 * cp.norm(B @ b2 + c2, 2)**2 + C2 * cp.sum(xi2))\n",
    "\n",
    "    # Constraints for Class 2\n",
    "    constraints2 = [\n",
    "        A @ b2 + c2 + xi2 >= np.ones(n_class1),\n",
    "        xi2 >= 0   # Class 1 points\n",
    "    ]\n",
    "\n",
    "    # Solve for Class 2\n",
    "    problem2 = cp.Problem(objective2, constraints2)\n",
    "    problem2.solve()\n",
    "    b2_opt = b2.value\n",
    "    c2_opt = c2.value\n",
    "\n",
    "    return b1_opt, c1_opt, b2_opt, c2_opt\n",
    "\n",
    "def predict(X, b1_opt, c1_opt, b2_opt, c2_opt):\n",
    "    \"\"\"\n",
    "    Predicts the labels for the given data points using TSVM with learned hyperplanes.\n",
    "\n",
    "    Args:\n",
    "    - X: Input data points, shape (n_samples, n_features).\n",
    "    - b1_opt: Optimal weight vector for class 1 hyperplane.\n",
    "    - c1_opt: Optimal bias for class 1 hyperplane.\n",
    "    - b2_opt: Optimal weight vector for class -1 hyperplane.\n",
    "    - c2_opt: Optimal bias for class -1 hyperplane.\n",
    "\n",
    "    Returns:\n",
    "    - y_pred: Predicted labels for the data points, +1 or -1.\n",
    "    \"\"\"\n",
    "    # Calculate distance from hyperplane 1 (class +1)\n",
    "    distance_to_class1 = np.abs(np.dot(X, b1_opt) + c1_opt)\n",
    "    \n",
    "    # Calculate distance from hyperplane 2 (class -1)\n",
    "    distance_to_class2 = np.abs(np.dot(X, b2_opt) + c2_opt)\n",
    "    \n",
    "    # Assign label based on which hyperplane is closer\n",
    "    y_pred = np.where(distance_to_class1 < distance_to_class2, 1, -1)\n",
    "    \n",
    "    return y_pred"
   ]
  },
  {
   "cell_type": "code",
   "execution_count": 15,
   "metadata": {},
   "outputs": [],
   "source": [
    "A = X_train[y_train == 1]  \n",
    "B = X_train[y_train == -1]"
   ]
  },
  {
   "cell_type": "code",
   "execution_count": 16,
   "metadata": {},
   "outputs": [
    {
     "name": "stdout",
     "output_type": "stream",
     "text": [
      "Accuracy: 96.00%\n",
      "Classification Report:\n",
      "              precision    recall  f1-score   support\n",
      "\n",
      "          -1       0.95      0.97      0.96       400\n",
      "           1       0.97      0.95      0.96       400\n",
      "\n",
      "    accuracy                           0.96       800\n",
      "   macro avg       0.96      0.96      0.96       800\n",
      "weighted avg       0.96      0.96      0.96       800\n",
      "\n"
     ]
    }
   ],
   "source": [
    "# TSVM\n",
    "b1_opt, c1_opt, b2_opt, c2_opt  = tsvm(\n",
    "    A, B, C1=1.0, C2=1.0)\n",
    "\n",
    "# Predict on the train data\n",
    "y_pred = predict(X_test, b1_opt, c1_opt, b2_opt, c2_opt)\n",
    "\n",
    "# Calculate the accuracy\n",
    "accuracy = accuracy_score(y_test, y_pred)\n",
    "\n",
    "# Output the accuracy\n",
    "print(f\"Accuracy: {accuracy * 100:.2f}%\")\n",
    "\n",
    "# Display the classification report\n",
    "print(\"Classification Report:\")\n",
    "print(classification_report(y_test, y_pred))"
   ]
  },
  {
   "cell_type": "code",
   "execution_count": 17,
   "metadata": {},
   "outputs": [],
   "source": [
    "from sklearn.base import BaseEstimator, ClassifierMixin\n",
    "\n",
    "class QSVM(BaseEstimator, ClassifierMixin):\n",
    "    def __init__(self, mu=0.2):\n",
    "        self.mu = mu\n",
    "\n",
    "    def fit(self, X, y):\n",
    "        self.d = self._calculate_d(X.shape[1])  # Calculate dimensionality once\n",
    "        G, r = self.compute_G_and_r(X)\n",
    "        self.z, self.c = self.optimize_z_c(G, r, y, self.mu)\n",
    "        return self  # Return self instead of z and c\n",
    "\n",
    "    def predict(self, X):\n",
    "        r = self._compute_r_matrix(X)\n",
    "        return np.sign(r @ self.z + self.c)\n",
    "\n",
    "    def score(self, X, y):\n",
    "        predictions = self.predict(X)\n",
    "        return accuracy_score(y, predictions)\n",
    "\n",
    "    def compute_G_and_r(self, X):\n",
    "        \"\"\"Compute the matrices G and r based on X.\"\"\"\n",
    "        m, n = X.shape\n",
    "        G = np.zeros((self.d, self.d))\n",
    "        r = np.zeros((m, self.d))\n",
    "        D_n = self.get_duplication_matrix(n)\n",
    "\n",
    "        print(\"Start computing G and r...\")\n",
    "        for i in tqdm(range(m)):\n",
    "            x_i = X[i, :]\n",
    "            s_i = self._compute_s_i(x_i)\n",
    "            r[i] = np.concatenate([s_i, x_i])\n",
    "            X_i = np.kron(np.eye(n), x_i.reshape(1, -1))\n",
    "            M_i = X_i @ D_n\n",
    "            H_i = np.hstack([M_i, np.eye(n)])\n",
    "            G += 2 * H_i.T @ H_i\n",
    "        print(\"Finished computing G and r...\\n\")\n",
    "\n",
    "        return G, r\n",
    "\n",
    "    def loss(self, z, G, r, y, c, mu):\n",
    "        square_loss = 0.5 * z.T @ G @ z\n",
    "        y_hat = r @ z + c\n",
    "        hinge_loss = np.sum(np.maximum(0, 1 - np.multiply(y, y_hat)))\n",
    "        return square_loss + mu * hinge_loss\n",
    "\n",
    "    def optimize_z_c(self, G, r, y, mu):\n",
    "        d = G.shape[0]\n",
    "        z = cp.Variable((d, 1))\n",
    "        c = cp.Variable()\n",
    "        y = np.array(y).reshape(-1, 1)\n",
    "\n",
    "        square_loss = 0.5 * cp.quad_form(z, G)\n",
    "        y_hat = r @ z + c\n",
    "        hinge_loss = cp.sum(cp.maximum(0, 1 - cp.multiply(y, y_hat)))\n",
    "        objective = cp.Minimize(square_loss + mu * hinge_loss)\n",
    "        prob = cp.Problem(objective)\n",
    "        result = prob.solve(solver=cp.CLARABEL, verbose=False)\n",
    "\n",
    "        return z.value, c.value\n",
    "\n",
    "    def _compute_r_matrix(self, X):\n",
    "        \"\"\"Helper to compute the r matrix for predictions.\"\"\"\n",
    "        m, n = X.shape\n",
    "        r = np.zeros((m, self.d))\n",
    "        for i in range(m):\n",
    "            x_i = X[i, :]\n",
    "            s_i = self._compute_s_i(x_i)\n",
    "            r[i] = np.concatenate([s_i, x_i])\n",
    "        return r\n",
    "\n",
    "    def _compute_s_i(self, x_i):\n",
    "        \"\"\"Helper to compute s_i (half-vectorization) from x_i.\"\"\"\n",
    "        x_i_x_i_T = np.outer(x_i, x_i)\n",
    "        return 0.5 * self.hvec(x_i_x_i_T)\n",
    "\n",
    "    def hvec(self, A):\n",
    "        \"\"\"Half-vectorization of a symmetric matrix A.\"\"\"\n",
    "        indices = np.triu_indices(A.shape[0])\n",
    "        return A[indices]\n",
    "\n",
    "    def get_duplication_matrix(self, n):\n",
    "        \"\"\"Duplication matrix for vectorizing a symmetric matrix.\"\"\"\n",
    "        i_indices = np.arange(n*n)\n",
    "        j_indices = np.zeros((n, n), dtype=int)\n",
    "\n",
    "        z = 0\n",
    "        for x in range(n):\n",
    "            for y in range(x, n):\n",
    "                j_indices[x, y] = j_indices[y, x] = z\n",
    "                z += 1\n",
    "\n",
    "        j_indices_flat = j_indices.flatten()\n",
    "        data = np.ones(n*n, dtype=int)\n",
    "        return coo_matrix((data, (i_indices, j_indices_flat)), shape=(n*n, (n*(n+1))//2))\n",
    "\n",
    "    def _calculate_d(self, n):\n",
    "        \"\"\"Helper to calculate the dimensionality once.\"\"\"\n",
    "        return n + n * (n + 1) // 2\n"
   ]
  },
  {
   "cell_type": "code",
   "execution_count": 18,
   "metadata": {},
   "outputs": [
    {
     "name": "stdout",
     "output_type": "stream",
     "text": [
      "Training data shape: (800, 88)\n",
      "Test data shape: (800, 88)\n"
     ]
    }
   ],
   "source": [
    "from sklearn.preprocessing import StandardScaler\n",
    "from sklearn.decomposition import PCA\n",
    "\n",
    "# Preprocess the data\n",
    "# Normalize data (important for SVM)\n",
    "scaler_standard = StandardScaler()\n",
    "X_train_standard = scaler_standard.fit_transform(X_train)\n",
    "X_test_standard = scaler_standard.transform(X_test)\n",
    "\n",
    "pca = PCA()\n",
    "X_pca = pca.fit_transform(X_train_standard)\n",
    "explained_variance_ratio = pca.explained_variance_ratio_\n",
    "cumulative_variance = explained_variance_ratio.cumsum()\n",
    "k = (cumulative_variance>=0.6).argmax()+1\n",
    "\n",
    "pca= PCA(n_components=k)\n",
    "X_train_reduced = pca.fit_transform(X_train_standard)\n",
    "X_test_reduced = pca.transform(X_test_standard)\n",
    "\n",
    "print(f\"Training data shape: {X_train_reduced.shape}\")\n",
    "print(f\"Test data shape: {X_test_reduced.shape}\")"
   ]
  },
  {
   "cell_type": "code",
   "execution_count": 19,
   "metadata": {},
   "outputs": [
    {
     "name": "stdout",
     "output_type": "stream",
     "text": [
      "Start computing G and r...\n"
     ]
    },
    {
     "name": "stderr",
     "output_type": "stream",
     "text": [
      "100%|██████████| 800/800 [00:55<00:00, 14.46it/s]\n"
     ]
    },
    {
     "name": "stdout",
     "output_type": "stream",
     "text": [
      "Finished computing G and r...\n",
      "\n"
     ]
    }
   ],
   "source": [
    "from scipy.sparse import coo_matrix\n",
    "from tqdm import tqdm\n",
    "\n",
    "qsvm = QSVM(mu = 2)\n",
    "clf = qsvm.fit(X_train_reduced, y_train)"
   ]
  },
  {
   "cell_type": "code",
   "execution_count": 20,
   "metadata": {},
   "outputs": [
    {
     "name": "stdout",
     "output_type": "stream",
     "text": [
      "Accuracy: 95.12%\n",
      "Classification Report:\n",
      "              precision    recall  f1-score   support\n",
      "\n",
      "          -1       0.98      0.92      0.95       400\n",
      "           1       0.92      0.98      0.95       400\n",
      "\n",
      "    accuracy                           0.95       800\n",
      "   macro avg       0.95      0.95      0.95       800\n",
      "weighted avg       0.95      0.95      0.95       800\n",
      "\n"
     ]
    }
   ],
   "source": [
    "from sklearn.metrics import accuracy_score, classification_report\n",
    "\n",
    "# Predict on the test data\n",
    "y_pred = qsvm.predict(X_test_reduced)\n",
    "\n",
    "# Calculate the accuracy\n",
    "accuracy = accuracy_score(y_test, y_pred)\n",
    "\n",
    "# Output the accuracy\n",
    "print(f\"Accuracy: {accuracy * 100:.2f}%\")\n",
    "\n",
    "# Display the classification report\n",
    "print(\"Classification Report:\")\n",
    "print(classification_report(y_test, y_pred))"
   ]
  },
  {
   "cell_type": "code",
   "execution_count": 21,
   "metadata": {},
   "outputs": [],
   "source": [
    "class QTSVM:\n",
    "    def __init__(self, C_1=1, C_2=1):\n",
    "\n",
    "        \"\"\"\n",
    "        Imbalanced Universum Quadratic Twin SVM for any binary classification task.\n",
    "        For each class, this model finds a quadratic function that passes through that class\n",
    "        but makes sure the other class stay away one unit! Universum points are generated\n",
    "        depending on the class that we are handling.\n",
    "\n",
    "        Args:\n",
    "        - C_1: Regularization parameter for class 1 points.\n",
    "        - C_2: Regularization parameter for class -1 points.\n",
    "        \"\"\"\n",
    "\n",
    "        self.C_1 = C_1\n",
    "        self.C_2 = C_2\n",
    "\n",
    "    def fit(self, X, y):\n",
    "        \"\"\"\n",
    "        Fit the ImUQTSVM model.\n",
    "\n",
    "        X: Training data matrix.\n",
    "        y: Labels corresponding to rows of X.\n",
    "        \"\"\"\n",
    "        self.d = self._calculate_d(X.shape[1])  # Calculate dimensionality once\n",
    "\n",
    "        # Separate positive and negative samples\n",
    "        A = X[y == 1]\n",
    "        B = X[y == -1]\n",
    "\n",
    "        # Undersample class -1 to construct a reduced majority matrix\n",
    "        m_1 = A.shape[0]\n",
    "        B_reduced_indices = np.random.choice(B.shape[0], m_1, replace=True)\n",
    "        B_reduced = B[B_reduced_indices]\n",
    "\n",
    "        m_2 = B.shape[0]\n",
    "        r = m_1 - m_2\n",
    "        # Create A_bar: Randomly choose rows from A with replacement\n",
    "        A_bar_indices = np.random.choice(m_1, r, replace=True)\n",
    "        A_bar = A[A_bar_indices]\n",
    "\n",
    "        # Create B_bar: Randomly choose rows from B without replacement\n",
    "        B_bar_indices = np.random.choice(m_2, r, replace=True)\n",
    "        B_bar = B[B_bar_indices]\n",
    "\n",
    "        # Compute r matrices\n",
    "        r_1 = self.compute_r(A)\n",
    "        r_2 = self.compute_r(B)\n",
    "        r_2_reduced = self.compute_r(B_reduced)\n",
    "\n",
    "\n",
    "        self.z_1, self.c_1 = self.optimize_z_1_c_1(r_1, r_2_reduced)\n",
    "        self.z_2, self.c_2 = self.optimize_z_2_c_2(r_2, r_1)\n",
    "\n",
    "        return self.z_1, self.c_1, self.z_2, self.c_2\n",
    "\n",
    "    def predict(self, X, z_1, c_1, z_2, c_2):\n",
    "        \"\"\"\n",
    "        Make predictions using the fitted UQTSVM model.\n",
    "        X: Test data (features).\n",
    "        \"\"\"\n",
    "        y_hat = np.ones(X.shape[0])\n",
    "        for i in range(X.shape[0]):\n",
    "            r_i = self.compute_r(X[i,:].reshape(1,-1))\n",
    "            H_i = self.compute_H(X[i,:])\n",
    "\n",
    "            numerator_1 = np.abs(r_i @ z_1 + c_1)\n",
    "            denominator_1 = np.linalg.norm(H_i @ z_1 + c_1) ** 2\n",
    "            numerator_2 = np.abs(r_i @ z_2 + c_2)\n",
    "            denominator_2 = np.linalg.norm(H_i @ z_2 + c_2) ** 2\n",
    "\n",
    "            expression_1 = numerator_1 / denominator_1\n",
    "            expression_2 = numerator_2 / denominator_2\n",
    "\n",
    "            if expression_1 >= expression_2:\n",
    "                y_hat[i] = -1\n",
    "\n",
    "        return y_hat\n",
    "\n",
    "    def score(self, X, y):\n",
    "        \"\"\"\n",
    "        Calculate the accuracy of the U-QSVM model.\n",
    "\n",
    "        X: Test data (features).\n",
    "        y: True labels for the test data.\n",
    "        \"\"\"\n",
    "        #predictions = self.predict(X, z_1, c_1, z_2, c_2)\n",
    "        predictions = self.predict(X, self.z_1, self.c_1, self.z_2, self.c_2)\n",
    "\n",
    "        return accuracy_score(y, predictions)\n",
    "\n",
    "\n",
    "    def compute_H(self, x):\n",
    "      n = x.shape[0]\n",
    "      s_x = self.compute_s_i(x)\n",
    "      r_x = np.concatenate([s_x, x])\n",
    "      X_x = np.kron(np.eye(n), x.reshape(1, -1))\n",
    "      D_n = self.get_duplication_matrix(n)\n",
    "      M_x = X_x @ D_n\n",
    "      H_x = np.hstack([M_x, np.eye(n)])\n",
    "      return H_x\n",
    "\n",
    "\n",
    "    def optimize_z_1_c_1(self, r_1, r_2):\n",
    "\n",
    "        d = r_1.shape[1]\n",
    "        z_1 = cp.Variable((d, 1))\n",
    "        c_1 = cp.Variable()\n",
    "\n",
    "        # Square loss for regression points\n",
    "        square_loss_1 = cp.sum_squares(r_1 @ z_1 + c_1)\n",
    "\n",
    "        # Slack variables for errors in class 2 and Universum\n",
    "        slack_class_2 = cp.Variable((r_2.shape[0], 1), nonneg=True)\n",
    "\n",
    "        # slack_class_2 = cp.Variable(r_2.shape[0], nonneg=True)\n",
    "        # slack_universum = cp.Variable(r_u.shape[0], nonneg=True)\n",
    "\n",
    "        # Constraints\n",
    "        constraints = []\n",
    "\n",
    "        # Ensure all points in class 2 satisfy the margin or account for errors\n",
    "        constraints.append(r_2 @ z_1 + c_1 <= -1 + slack_class_2)\n",
    "\n",
    "        # Objective: Minimize square loss + hinge penalties for class 2 and Universum\n",
    "        objective = cp.Minimize(\n",
    "            square_loss_1\n",
    "            + self.C_1 * cp.sum(slack_class_2)\n",
    "        )\n",
    "\n",
    "        # Problem definition\n",
    "        prob = cp.Problem(objective, constraints)\n",
    "        prob.solve(solver=cp.SCS, verbose=False)  # Use any preferred solver\n",
    "\n",
    "        return z_1.value, c_1.value\n",
    "\n",
    "\n",
    "    def optimize_z_2_c_2(self, r_2, r_1):\n",
    "\n",
    "        d = r_2.shape[1]\n",
    "        z_2 = cp.Variable((d, 1))\n",
    "        c_2 = cp.Variable()\n",
    "\n",
    "        # Square loss for class 1 points\n",
    "        square_loss_1 = cp.sum_squares(r_2 @ z_2 + c_2)\n",
    "\n",
    "        # Slack variables for errors in class 1 and Universum\n",
    "        slack_class_1 = cp.Variable((r_1.shape[0], 1), nonneg=True)\n",
    "\n",
    "        # slack_class_1 = cp.Variable(r_1.shape[0], nonneg=True)\n",
    "        # slack_universum = cp.Variable(r_u.shape[0], nonneg=True)\n",
    "\n",
    "        # Constraints\n",
    "        constraints = []\n",
    "\n",
    "        # Ensure all points in class 1 satisfy the margin or account for errors\n",
    "        constraints.append(r_1 @ z_2 + c_2 >= 1 - slack_class_1)\n",
    "\n",
    "\n",
    "        # Objective: Minimize square loss + hinge penalties for class 1 and Universum\n",
    "        objective = cp.Minimize(\n",
    "            square_loss_1\n",
    "            + self.C_2 * cp.sum(slack_class_1)\n",
    "        )\n",
    "\n",
    "        # Problem definition\n",
    "        prob = cp.Problem(objective, constraints)\n",
    "        prob.solve(solver=cp.SCS, verbose=False)  # Use any preferred solver\n",
    "\n",
    "        return z_2.value, c_2.value\n",
    "\n",
    "    def compute_r(self, X):\n",
    "        \"\"\"Helper to compute the r matrix for predictions.\"\"\"\n",
    "        m, n = X.shape\n",
    "        r = np.zeros((m, self.d))\n",
    "        for i in range(m):\n",
    "            x_i = X[i, :]\n",
    "            s_i = self.compute_s_i(x_i)\n",
    "            r[i] = np.concatenate([s_i, x_i])\n",
    "        return r\n",
    "\n",
    "    def compute_s_i(self, x_i):\n",
    "        \"\"\"Helper to compute s_i (half-vectorization) from x_i.\"\"\"\n",
    "        x_i_x_i_T = np.outer(x_i, x_i)\n",
    "        return 0.5 * self.hvec(x_i_x_i_T)\n",
    "\n",
    "    def hvec(self, A):\n",
    "        \"\"\"Half-vectorization of a symmetric matrix A.\"\"\"\n",
    "        indices = np.triu_indices(A.shape[0])\n",
    "        return A[indices]\n",
    "\n",
    "    def get_duplication_matrix(self, n):\n",
    "        \"\"\"Duplication matrix for vectorizing a symmetric matrix.\"\"\"\n",
    "        i_indices = np.arange(n * n)\n",
    "        j_indices = np.zeros((n, n), dtype=int)\n",
    "\n",
    "        z = 0\n",
    "        for x in range(n):\n",
    "            for y in range(x, n):\n",
    "                j_indices[x, y] = j_indices[y, x] = z\n",
    "                z += 1\n",
    "\n",
    "        j_indices_flat = j_indices.flatten()\n",
    "        data = np.ones(n * n, dtype=int)\n",
    "        return coo_matrix((data, (i_indices, j_indices_flat)), shape=(n * n, (n * (n + 1)) // 2))\n",
    "\n",
    "    def _calculate_d(self, n):\n",
    "        \"\"\"Helper to calculate the dimensionality once.\"\"\"\n",
    "        return n + n * (n + 1) // 2\n"
   ]
  },
  {
   "cell_type": "code",
   "execution_count": 22,
   "metadata": {},
   "outputs": [],
   "source": [
    "np.random.seed(42)\n",
    "\n",
    "C_1 = 1\n",
    "C_2 = 1\n",
    "\n",
    "# Step 2: Initialize and train the UQTSVM model (Assuming the class UQTSVM is already defined)\n",
    "qtsvm = QTSVM(C_1 = C_1, C_2 = C_2)\n",
    "z_1, c_1, z_2, c_2 = qtsvm.fit(X_train_reduced, y_train)"
   ]
  },
  {
   "cell_type": "code",
   "execution_count": 23,
   "metadata": {},
   "outputs": [
    {
     "name": "stdout",
     "output_type": "stream",
     "text": [
      "Accuracy: 88.75%\n",
      "Classification Report:\n",
      "              precision    recall  f1-score   support\n",
      "\n",
      "          -1       0.85      0.94      0.89       400\n",
      "           1       0.94      0.83      0.88       400\n",
      "\n",
      "    accuracy                           0.89       800\n",
      "   macro avg       0.89      0.89      0.89       800\n",
      "weighted avg       0.89      0.89      0.89       800\n",
      "\n"
     ]
    }
   ],
   "source": [
    "from sklearn.metrics import accuracy_score, classification_report\n",
    "\n",
    "# Predict on the test data\n",
    "y_pred = qtsvm.predict(X_test_reduced, z_1, c_1, z_2, c_2)\n",
    "\n",
    "# Calculate the accuracy\n",
    "accuracy = accuracy_score(y_test, y_pred)\n",
    "\n",
    "# Output the accuracy\n",
    "print(f\"Accuracy: {accuracy * 100:.2f}%\")\n",
    "\n",
    "# Display the classification report\n",
    "print(\"Classification Report:\")\n",
    "print(classification_report(y_test, y_pred))"
   ]
  }
 ],
 "metadata": {
  "kernelspec": {
   "display_name": "Python 3",
   "language": "python",
   "name": "python3"
  },
  "language_info": {
   "codemirror_mode": {
    "name": "ipython",
    "version": 3
   },
   "file_extension": ".py",
   "mimetype": "text/x-python",
   "name": "python",
   "nbconvert_exporter": "python",
   "pygments_lexer": "ipython3",
   "version": "3.12.4"
  }
 },
 "nbformat": 4,
 "nbformat_minor": 2
}
